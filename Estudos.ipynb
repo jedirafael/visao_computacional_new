{
  "nbformat": 4,
  "nbformat_minor": 0,
  "metadata": {
    "colab": {
      "name": "Estudos.ipynb",
      "provenance": [],
      "authorship_tag": "ABX9TyM5OtN4OdsruXYXU8VjcC3j",
      "include_colab_link": true
    },
    "kernelspec": {
      "name": "python3",
      "display_name": "Python 3"
    },
    "language_info": {
      "name": "python"
    }
  },
  "cells": [
    {
      "cell_type": "markdown",
      "metadata": {
        "id": "view-in-github",
        "colab_type": "text"
      },
      "source": [
        "<a href=\"https://colab.research.google.com/github/jedirafael/visao_computacional_new/blob/master/Estudos.ipynb\" target=\"_parent\"><img src=\"https://colab.research.google.com/assets/colab-badge.svg\" alt=\"Open In Colab\"/></a>"
      ]
    },
    {
      "cell_type": "markdown",
      "source": [
        "VISÃO COMPUTACIONAL : DETECÇÃO DE FACES"
      ],
      "metadata": {
        "id": "jle8IaSDpDy1"
      }
    },
    {
      "cell_type": "code",
      "execution_count": null,
      "metadata": {
        "id": "jC0afeAjpDRO"
      },
      "outputs": [],
      "source": [
        ""
      ]
    }
  ]
}